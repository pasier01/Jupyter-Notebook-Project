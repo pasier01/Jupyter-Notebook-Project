{
 "cells": [
  {
   "cell_type": "markdown",
   "metadata": {},
   "source": [
    "<center>\n",
    "    <img src=\"https://cf-courses-data.s3.us.cloud-object-storage.appdomain.cloud/IBMDeveloperSkillsNetwork-DS0105EN-SkillsNetwork/labs/Module2/images/SN_web_lightmode.png\" width=\"300\" alt=\"cognitiveclass.ai logo\">\n",
    "</center>\n"
   ]
  },
  {
   "cell_type": "markdown",
   "metadata": {},
   "source": [
    "#### Add your code below following the instructions given in the course\n"
   ]
  },
  {
   "cell_type": "markdown",
   "metadata": {},
   "source": [
    "# TITLE OF THE NOTEBOOK: Peer-graded assignment"
   ]
  },
  {
   "cell_type": "markdown",
   "metadata": {},
   "source": [
    "## INTRODUCTION"
   ]
  },
  {
   "cell_type": "markdown",
   "metadata": {},
   "source": [
    "In this notebook, I will present my peer-graded assignment. The assignment consists of twelve exercices:\n"
   ]
  },
  {
   "cell_type": "markdown",
   "metadata": {},
   "source": [
    "**Exercise 2 - Create a markdown cell with the title of the notebook. (1 pt)**\n",
    "\n",
    "**Exercise 3 - Create a markdown cell for an introduction. (1 pt)**\n",
    "\n",
    "**Exercise 4 - Create a markdown cell to list data science languages. (3 pts)**\n",
    "\n",
    "**Exercise 5 - Create a markdown cell to list data science libraries. (3 pts)**\n",
    "\n",
    "**Exercise 6 - Create a markdown cell with a table of Data Science tools. (3 pts)**\n",
    "\n",
    "**Exercise 7 - Create a markdown cell introducing arithmetic expression examples. (1 pt)**\n",
    "\n",
    "**Exercise 8 - Create a code cell to multiply and add numbers. (2 pts)**\n",
    "\n",
    "**Exercise 9 - Create a code cell to convert minutes to hours. (2 pts)**\n",
    "\n",
    "**Exercise 10 -Insert a markdown cell to list Objectives. (3 pts)**\n",
    "\n",
    "**Exercise 11 - Create a markdown cell to indicate the Author’s name. (2 pts)**\n",
    "\n",
    "**Exercise 12 - Share your notebook through GitHub (3 pts)**\n",
    "\n",
    "**Exercise 13 - Take a screenshot of the first page of the notebook. (1 pt)**\n"
   ]
  },
  {
   "cell_type": "markdown",
   "metadata": {},
   "source": [
    "## List of data science languages"
   ]
  },
  {
   "cell_type": "markdown",
   "metadata": {},
   "source": [
    "There are lots of data science languages nowadays. However, some of the most popular are:\n",
    "- Python\n",
    "- R\n",
    "- SQL\n",
    "- Julia\n",
    "- Scala"
   ]
  },
  {
   "cell_type": "markdown",
   "metadata": {},
   "source": [
    "## List of data science libraries"
   ]
  },
  {
   "cell_type": "markdown",
   "metadata": {},
   "source": [
    "Among these languages we find special libraries that help data scientists work with data. For instance:\n",
    "#### *Python*\n",
    "##### Data Manipulation and Analysis\n",
    "1. pandas\n",
    "2. NumPy\n",
    "3. PySpark\n",
    "##### Machine Learning\n",
    "1. scikit-learn\n",
    "2. TensorFlow\n",
    "3. PyTorch\n",
    "##### Data Visualitation\n",
    "1. Matplotlib\n",
    "#### *R*\n",
    "1. dplyr\n",
    "2. tidyr\n",
    "3. ggplot2\n",
    "4. plotly\n",
    "5. caret"
   ]
  },
  {
   "cell_type": "markdown",
   "metadata": {},
   "source": [
    "## Table of Data Science tools"
   ]
  },
  {
   "cell_type": "markdown",
   "metadata": {},
   "source": [
    "Here we will create a table with one of the most useful tools in Data Science:\n",
    "\n",
    "Data Science Tool Type | Tools |\n",
    " -------------| ------ |\n",
    " Data Management | MySQL, PostgreSQL, MongoDB, Apache CouchDB, Apache Cassandra, Hadoop File System, Ceph, and elastic search|\n",
    " Data Integration and Transformation | Apache Airflow, KubeFlow, Apache Kafka, Apache Nifi, Apache SparkSQL, and NodeRED|\n",
    " Data Visualization | Pixie Dust, Hue, Kibana, and Apache Superset |\n",
    " Model Deployment | Apache PredictionIO, Seldon, Kubernetes, Redhat OpenShift, Mleap, TensorFlow Service, TensorFlow lite, and TensorFlow dot JS|\n",
    " Model Monitoring | ModelDB, Prometheus, IBM AI Fairness 360, IBM Adversarial Robustness 360 Toolbox, and IBM AI Explainability 360 |\n",
    " Code Asset Management | Git, Github, GitLab, and Bitbucket |"
   ]
  },
  {
   "cell_type": "markdown",
   "metadata": {},
   "source": [
    "## Arithmetic expression examples"
   ]
  },
  {
   "cell_type": "markdown",
   "metadata": {},
   "source": [
    "The main operations in arithmetics are the following:\n",
    "##### Adition\n",
    "5+3=8\n",
    "##### Subtraction\n",
    "5-3=2\n",
    "##### Multiplication\n",
    "5*3=15\n",
    "##### Division\n",
    "6/3=2\n",
    "##### Exponentation\n",
    "2**3=8\n",
    "\n",
    "There is a prearranged order of these operations that follow the rule  PEMDAS. In which the order of operations is:\n",
    "*Parentheses> Exponents> Multiplication and Division> Addition and Subtration*. For instance:\n",
    "\n",
    "6 + 2 x (3^2 - 1) / 2 = 14"
   ]
  },
  {
   "cell_type": "markdown",
   "metadata": {},
   "source": [
    "## Code Cell for multiplying and adding numbers"
   ]
  },
  {
   "cell_type": "markdown",
   "metadata": {},
   "source": [
    "We are going to introduce a code that will enable us to multiply and add two numbers. The reader will have to run the code and introduce the numbers in the boxes below."
   ]
  },
  {
   "cell_type": "code",
   "execution_count": 7,
   "metadata": {},
   "outputs": [
    {
     "name": "stdin",
     "output_type": "stream",
     "text": [
      " 23333\n",
      " 24567898765\n"
     ]
    },
    {
     "name": "stdout",
     "output_type": "stream",
     "text": [
      "The multiplication of the given numbers is: 573242781883745.0\n",
      "The sum of the given numbers is: 24567922098.0\n"
     ]
    }
   ],
   "source": [
    "numb1=float(input())\n",
    "numb2=float(input())\n",
    "print(\"The multiplication of the given numbers is:\", numb1*numb2)\n",
    "print(\"The sum of the given numbers is:\", numb1+numb2)"
   ]
  },
  {
   "cell_type": "markdown",
   "metadata": {},
   "source": [
    "## Code Cell for converting minutes into hours"
   ]
  },
  {
   "cell_type": "markdown",
   "metadata": {},
   "source": [
    "In the next cell, we will receive an input of minutes and we will convert it into hours:"
   ]
  },
  {
   "cell_type": "code",
   "execution_count": 9,
   "metadata": {},
   "outputs": [
    {
     "name": "stdin",
     "output_type": "stream",
     "text": [
      " 60\n"
     ]
    },
    {
     "name": "stdout",
     "output_type": "stream",
     "text": [
      "The amount of minutes inputed are:  1.0 hours\n"
     ]
    }
   ],
   "source": [
    "minutes=float(input())\n",
    "print(\"The amount of minutes inputed are: \", minutes/60, \"hours\")"
   ]
  },
  {
   "cell_type": "markdown",
   "metadata": {},
   "source": [
    "## Objectives"
   ]
  },
  {
   "cell_type": "markdown",
   "metadata": {},
   "source": [
    "The main objectives of the project are:\n",
    "- Learn to use Markdown in Jupiter Notebooks\n",
    "- Learn to create lists in Jupiter Notebooks\n",
    "- Learn to create tables in Jupiter Notebooks\n",
    "- Learn how to use code in Jupyter Notebooks\n",
    "- Complete a peer-graded task in the course"
   ]
  },
  {
   "cell_type": "markdown",
   "metadata": {},
   "source": [
    "## Author Name: Pablo Sierra"
   ]
  },
  {
   "cell_type": "code",
   "execution_count": null,
   "metadata": {},
   "outputs": [],
   "source": []
  }
 ],
 "metadata": {
  "kernelspec": {
   "display_name": "Python 3 (ipykernel)",
   "language": "python",
   "name": "python3"
  },
  "language_info": {
   "codemirror_mode": {
    "name": "ipython",
    "version": 3
   },
   "file_extension": ".py",
   "mimetype": "text/x-python",
   "name": "python",
   "nbconvert_exporter": "python",
   "pygments_lexer": "ipython3",
   "version": "3.11.9"
  }
 },
 "nbformat": 4,
 "nbformat_minor": 4
}
